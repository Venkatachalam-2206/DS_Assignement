{
 "cells": [
  {
   "cell_type": "code",
   "execution_count": 3,
   "metadata": {},
   "outputs": [
    {
     "ename": "NameError",
     "evalue": "name 'customer_features' is not defined",
     "output_type": "error",
     "traceback": [
      "\u001b[1;31m---------------------------------------------------------------------------\u001b[0m",
      "\u001b[1;31mNameError\u001b[0m                                 Traceback (most recent call last)",
      "Cell \u001b[1;32mIn[3], line 4\u001b[0m\n\u001b[0;32m      2\u001b[0m \u001b[38;5;28;01mfrom\u001b[39;00m \u001b[38;5;21;01msklearn\u001b[39;00m\u001b[38;5;21;01m.\u001b[39;00m\u001b[38;5;21;01mpreprocessing\u001b[39;00m \u001b[38;5;28;01mimport\u001b[39;00m StandardScaler\n\u001b[0;32m      3\u001b[0m scaler \u001b[38;5;241m=\u001b[39m StandardScaler()\n\u001b[1;32m----> 4\u001b[0m X_scaled \u001b[38;5;241m=\u001b[39m scaler\u001b[38;5;241m.\u001b[39mfit_transform(\u001b[43mcustomer_features\u001b[49m[[\u001b[38;5;124m\"\u001b[39m\u001b[38;5;124mTotalValue\u001b[39m\u001b[38;5;124m\"\u001b[39m]])\n\u001b[0;32m      5\u001b[0m kmeans \u001b[38;5;241m=\u001b[39m KMeans(n_clusters\u001b[38;5;241m=\u001b[39m\u001b[38;5;241m3\u001b[39m, random_state\u001b[38;5;241m=\u001b[39m\u001b[38;5;241m42\u001b[39m)\n\u001b[0;32m      6\u001b[0m kmeans\u001b[38;5;241m.\u001b[39mfit(X_scaled)\n",
      "\u001b[1;31mNameError\u001b[0m: name 'customer_features' is not defined"
     ]
    }
   ],
   "source": [
    "import numpy as np\n",
    "import pandas as pd\n",
    "import matplotlib.pyplot as plt\n",
    "import seaborn as sns\n",
    "from sklearn.preprocessing import StandardScaler\n",
    "from sklearn.cluster import KMeans\n",
    "from sklearn.metrics import davies_bouldin_score\n",
    "\n",
    "# Assuming customer_features is a DataFrame and has a \"TotalValue\" column\n",
    "scaler = StandardScaler()\n",
    "X_scaled = scaler.fit_transform(customer_features[[\"TotalValue\"]])\n",
    "\n",
    "# KMeans clustering\n",
    "kmeans = KMeans(n_clusters=3, random_state=42, n_init=10)  # Explicitly setting n_init\n",
    "kmeans.fit(X_scaled)\n",
    "\n",
    "# Assign cluster labels\n",
    "customer_features[\"Cluster\"] = kmeans.labels_\n",
    "\n",
    "# Compute Davies-Bouldin Index\n",
    "db_index = davies_bouldin_score(X_scaled, kmeans.labels_)\n",
    "print(\"Davies-Bouldin Index:\", db_index)\n",
    "\n",
    "# Plot results\n",
    "plt.figure(figsize=(8, 5))\n",
    "sns.scatterplot(x=customer_features.index,  # Use index if CustomerID is categorical\n",
    "                y=customer_features[\"TotalValue\"], \n",
    "                hue=customer_features[\"Cluster\"], \n",
    "                palette=\"viridis\")\n",
    "plt.title(\"Customer Segmentation Clusters\")\n",
    "plt.xlabel(\"Customer Index\")  # Rename axis appropriately\n",
    "plt.ylabel(\"Total Value\")\n",
    "plt.show()"
   ]
  }
 ],
 "metadata": {
  "kernelspec": {
   "display_name": "Python 3 (ipykernel)",
   "language": "python",
   "name": "python3"
  },
  "language_info": {
   "codemirror_mode": {
    "name": "ipython",
    "version": 3
   },
   "file_extension": ".py",
   "mimetype": "text/x-python",
   "name": "python",
   "nbconvert_exporter": "python",
   "pygments_lexer": "ipython3",
   "version": "3.13.0"
  }
 },
 "nbformat": 4,
 "nbformat_minor": 2
}
