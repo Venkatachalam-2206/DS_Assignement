{
 "cells": [
  {
   "cell_type": "code",
   "execution_count": 1,
   "metadata": {},
   "outputs": [
    {
     "name": "stdout",
     "output_type": "stream",
     "text": [
      "Columns in merged dataset: Index(['TransactionID', 'CustomerID', 'ProductID', 'TransactionDate',\n",
      "       'Quantity', 'TotalValue', 'Price_x', 'CustomerName', 'Region',\n",
      "       'SignupDate', 'ProductName', 'Category', 'Price_y'],\n",
      "      dtype='object')\n",
      "  CustomerID                                         Lookalikes\n",
      "0      C0001  [(C0103, 0.9976), (C0092, 0.9969), (C0135, 0.9...\n",
      "1      C0002  [(C0029, 0.9999), (C0077, 0.9961), (C0157, 0.9...\n",
      "2      C0003  [(C0111, 0.9985), (C0190, 0.9967), (C0038, 0.9...\n",
      "3      C0004  [(C0165, 0.9984), (C0162, 0.9981), (C0075, 0.9...\n",
      "4      C0005   [(C0167, 1.0), (C0020, 0.9997), (C0128, 0.9988)]\n"
     ]
    }
   ],
   "source": [
    "import pandas as pd\n",
    "from sklearn.preprocessing import StandardScaler\n",
    "from sklearn.metrics.pairwise import cosine_similarity\n",
    "\n",
    "# Load datasets\n",
    "customers_df = pd.read_csv(r\"C:\\Users\\venka\\Downloads\\Customers.csv\")\n",
    "products_df = pd.read_csv(r\"C:\\Users\\venka\\Downloads\\Products.csv\")\n",
    "transactions_df = pd.read_csv(r\"C:\\Users\\venka\\Downloads\\Transactions.csv\")\n",
    "\n",
    "# Merge transactions with customers and products\n",
    "df = transactions_df.merge(customers_df, on='CustomerID', how='left')\n",
    "df = df.merge(products_df, on='ProductID', how='left')\n",
    "\n",
    "# Check for correct column names after merging\n",
    "print(\"Columns in merged dataset:\", df.columns)\n",
    "\n",
    "# Ensure correct reference to the Price column (use 'Price_x' or 'Price_y' if needed)\n",
    "price_column = 'Price'\n",
    "if 'Price_x' in df.columns:\n",
    "    price_column = 'Price_x'\n",
    "elif 'Price_y' in df.columns:\n",
    "    price_column = 'Price_y'\n",
    "\n",
    "\n",
    "customer_features = df.groupby('CustomerID').agg({\n",
    "    'TotalValue': 'sum',\n",
    "    'Quantity': 'sum',\n",
    "    price_column: 'mean'  # Use the correct column name\n",
    "}).reset_index()\n",
    "\n",
    "# Normalize data\n",
    "scaler = StandardScaler()\n",
    "customer_features_scaled = scaler.fit_transform(customer_features.iloc[:, 1:])\n",
    "\n",
    "# Compute similarity matrix\n",
    "similarity_matrix = cosine_similarity(customer_features_scaled)\n",
    "\n",
    "# Create a dictionary mapping customers to their top 3 similar customers\n",
    "customer_ids = customer_features['CustomerID'].tolist()\n",
    "lookalike_map = {}\n",
    "\n",
    "for i, cust_id in enumerate(customer_ids[:20]): \n",
    "    similar_indices = similarity_matrix[i].argsort()[::-1][1:4]  \n",
    "    lookalike_map[cust_id] = [(customer_ids[j], round(similarity_matrix[i, j], 4)) for j in similar_indices]\n",
    "\n",
    "# Convert to DataFrame and save\n",
    "lookalike_df = pd.DataFrame(list(lookalike_map.items()), columns=['CustomerID', 'Lookalikes'])\n",
    "lookalike_df.to_csv(r\"C:\\Users\\venka\\Downloads\\Lookalike.csv\", index=False)\n",
    "\n",
    "# Print example output\n",
    "print(lookalike_df.head())\n"
   ]
  }
 ],
 "metadata": {
  "kernelspec": {
   "display_name": "Python 3 (ipykernel)",
   "language": "python",
   "name": "python3"
  },
  "language_info": {
   "codemirror_mode": {
    "name": "ipython",
    "version": 3
   },
   "file_extension": ".py",
   "mimetype": "text/x-python",
   "name": "python",
   "nbconvert_exporter": "python",
   "pygments_lexer": "ipython3",
   "version": "3.13.0"
  }
 },
 "nbformat": 4,
 "nbformat_minor": 2
}
